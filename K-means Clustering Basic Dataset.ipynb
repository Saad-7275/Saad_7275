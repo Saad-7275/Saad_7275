{
 "cells": [
  {
   "cell_type": "code",
   "execution_count": 1,
   "id": "f4ad9ca9",
   "metadata": {},
   "outputs": [],
   "source": [
    "import csv\n",
    "import pandas as pd\n",
    "import numpy as np"
   ]
  },
  {
   "cell_type": "code",
   "execution_count": 2,
   "id": "0fb94331",
   "metadata": {},
   "outputs": [
    {
     "name": "stdout",
     "output_type": "stream",
     "text": [
      "OrderedDict([('Name', 'Rob'), ('Age', '27'), ('Income($)', '70000')])\n",
      "OrderedDict([('Name', 'Michael'), ('Age', '29'), ('Income($)', '90000')])\n",
      "OrderedDict([('Name', 'Mohan'), ('Age', '29'), ('Income($)', '61000')])\n",
      "OrderedDict([('Name', 'Ismail'), ('Age', '28'), ('Income($)', '60000')])\n",
      "OrderedDict([('Name', 'Kory'), ('Age', '42'), ('Income($)', '150000')])\n",
      "OrderedDict([('Name', 'Gautam'), ('Age', '39'), ('Income($)', '155000')])\n",
      "OrderedDict([('Name', 'David'), ('Age', '41'), ('Income($)', '160000')])\n",
      "OrderedDict([('Name', 'Andrea'), ('Age', '38'), ('Income($)', '162000')])\n",
      "OrderedDict([('Name', 'Brad'), ('Age', '36'), ('Income($)', '156000')])\n",
      "OrderedDict([('Name', 'Angelina'), ('Age', '35'), ('Income($)', '130000')])\n",
      "OrderedDict([('Name', 'Donald'), ('Age', '37'), ('Income($)', '137000')])\n",
      "OrderedDict([('Name', 'Tom'), ('Age', '26'), ('Income($)', '45000')])\n",
      "OrderedDict([('Name', 'Arnold'), ('Age', '27'), ('Income($)', '48000')])\n",
      "OrderedDict([('Name', 'Jared'), ('Age', '28'), ('Income($)', '51000')])\n",
      "OrderedDict([('Name', 'Stark'), ('Age', '29'), ('Income($)', '49500')])\n",
      "OrderedDict([('Name', 'Ranbir'), ('Age', '32'), ('Income($)', '53000')])\n",
      "OrderedDict([('Name', 'Dipika'), ('Age', '40'), ('Income($)', '65000')])\n",
      "OrderedDict([('Name', 'Priyanka'), ('Age', '41'), ('Income($)', '63000')])\n",
      "OrderedDict([('Name', 'Nick'), ('Age', '43'), ('Income($)', '64000')])\n",
      "OrderedDict([('Name', 'Alia'), ('Age', '39'), ('Income($)', '80000')])\n",
      "OrderedDict([('Name', 'Sid'), ('Age', '41'), ('Income($)', '82000')])\n",
      "OrderedDict([('Name', 'Abdul'), ('Age', '39'), ('Income($)', '58000')])\n"
     ]
    }
   ],
   "source": [
    "with open('income_Csv_K-Means.csv') as file_obj:\n",
    "    file_data = csv.DictReader(file_obj)\n",
    "    file_list = list(file_data)\n",
    "    for i in file_list[:]:\n",
    "        print(i)"
   ]
  },
  {
   "cell_type": "code",
   "execution_count": 3,
   "id": "d0020441",
   "metadata": {},
   "outputs": [
    {
     "data": {
      "text/html": [
       "<div>\n",
       "<style scoped>\n",
       "    .dataframe tbody tr th:only-of-type {\n",
       "        vertical-align: middle;\n",
       "    }\n",
       "\n",
       "    .dataframe tbody tr th {\n",
       "        vertical-align: top;\n",
       "    }\n",
       "\n",
       "    .dataframe thead th {\n",
       "        text-align: right;\n",
       "    }\n",
       "</style>\n",
       "<table border=\"1\" class=\"dataframe\">\n",
       "  <thead>\n",
       "    <tr style=\"text-align: right;\">\n",
       "      <th></th>\n",
       "      <th>Name</th>\n",
       "      <th>Age</th>\n",
       "      <th>Income($)</th>\n",
       "    </tr>\n",
       "  </thead>\n",
       "  <tbody>\n",
       "    <tr>\n",
       "      <th>0</th>\n",
       "      <td>Rob</td>\n",
       "      <td>27</td>\n",
       "      <td>70000</td>\n",
       "    </tr>\n",
       "    <tr>\n",
       "      <th>1</th>\n",
       "      <td>Michael</td>\n",
       "      <td>29</td>\n",
       "      <td>90000</td>\n",
       "    </tr>\n",
       "    <tr>\n",
       "      <th>2</th>\n",
       "      <td>Mohan</td>\n",
       "      <td>29</td>\n",
       "      <td>61000</td>\n",
       "    </tr>\n",
       "    <tr>\n",
       "      <th>3</th>\n",
       "      <td>Ismail</td>\n",
       "      <td>28</td>\n",
       "      <td>60000</td>\n",
       "    </tr>\n",
       "    <tr>\n",
       "      <th>4</th>\n",
       "      <td>Kory</td>\n",
       "      <td>42</td>\n",
       "      <td>150000</td>\n",
       "    </tr>\n",
       "  </tbody>\n",
       "</table>\n",
       "</div>"
      ],
      "text/plain": [
       "      Name  Age  Income($)\n",
       "0      Rob   27      70000\n",
       "1  Michael   29      90000\n",
       "2    Mohan   29      61000\n",
       "3   Ismail   28      60000\n",
       "4     Kory   42     150000"
      ]
     },
     "execution_count": 3,
     "metadata": {},
     "output_type": "execute_result"
    }
   ],
   "source": [
    "df = pd.read_csv('income_Csv_K-Means.csv')\n",
    "df.head()"
   ]
  },
  {
   "cell_type": "code",
   "execution_count": 4,
   "id": "726b13a6",
   "metadata": {},
   "outputs": [],
   "source": [
    "import matplotlib.pyplot as plt\n",
    "import seaborn as sns"
   ]
  },
  {
   "cell_type": "code",
   "execution_count": 5,
   "id": "118709c9",
   "metadata": {},
   "outputs": [
    {
     "data": {
      "text/plain": [
       "Text(0, 0.5, 'Income')"
      ]
     },
     "execution_count": 5,
     "metadata": {},
     "output_type": "execute_result"
    },
    {
     "data": {
      "image/png": "[encoded data removed]",
      "text/plain": [
       "<Figure size 432x288 with 1 Axes>"
      ]
     },
     "metadata": {
      "needs_background": "light"
     },
     "output_type": "display_data"
    }
   ],
   "source": [
    "plt.scatter(df['Age'], df['Income($)'])\n",
    "plt.xlabel('Age')\n",
    "plt.ylabel('Income')"
   ]
  },
  {
   "cell_type": "code",
   "execution_count": 6,
   "id": "f3f5b0cd",
   "metadata": {},
   "outputs": [],
   "source": [
    "from sklearn.preprocessing import MinMaxScaler\n"
   ]
  },
  {
   "cell_type": "code",
   "execution_count": 7,
   "id": "b9f97f6f",
   "metadata": {},
   "outputs": [],
   "source": [
    "Normalize = MinMaxScaler()\n",
    "Normalize.fit(df[['Income($)']])\n",
    "df['Income($)']= Normalize.transform(df[['Income($)']])"
   ]
  },
  {
   "cell_type": "code",
   "execution_count": 8,
   "id": "1e7a012c",
   "metadata": {},
   "outputs": [
    {
     "data": {
      "text/html": [
       "<div>\n",
       "<style scoped>\n",
       "    .dataframe tbody tr th:only-of-type {\n",
       "        vertical-align: middle;\n",
       "    }\n",
       "\n",
       "    .dataframe tbody tr th {\n",
       "        vertical-align: top;\n",
       "    }\n",
       "\n",
       "    .dataframe thead th {\n",
       "        text-align: right;\n",
       "    }\n",
       "</style>\n",
       "<table border=\"1\" class=\"dataframe\">\n",
       "  <thead>\n",
       "    <tr style=\"text-align: right;\">\n",
       "      <th></th>\n",
       "      <th>Name</th>\n",
       "      <th>Age</th>\n",
       "      <th>Income($)</th>\n",
       "    </tr>\n",
       "  </thead>\n",
       "  <tbody>\n",
       "    <tr>\n",
       "      <th>0</th>\n",
       "      <td>Rob</td>\n",
       "      <td>27</td>\n",
       "      <td>0.213675</td>\n",
       "    </tr>\n",
       "    <tr>\n",
       "      <th>1</th>\n",
       "      <td>Michael</td>\n",
       "      <td>29</td>\n",
       "      <td>0.384615</td>\n",
       "    </tr>\n",
       "    <tr>\n",
       "      <th>2</th>\n",
       "      <td>Mohan</td>\n",
       "      <td>29</td>\n",
       "      <td>0.136752</td>\n",
       "    </tr>\n",
       "    <tr>\n",
       "      <th>3</th>\n",
       "      <td>Ismail</td>\n",
       "      <td>28</td>\n",
       "      <td>0.128205</td>\n",
       "    </tr>\n",
       "    <tr>\n",
       "      <th>4</th>\n",
       "      <td>Kory</td>\n",
       "      <td>42</td>\n",
       "      <td>0.897436</td>\n",
       "    </tr>\n",
       "  </tbody>\n",
       "</table>\n",
       "</div>"
      ],
      "text/plain": [
       "      Name  Age  Income($)\n",
       "0      Rob   27   0.213675\n",
       "1  Michael   29   0.384615\n",
       "2    Mohan   29   0.136752\n",
       "3   Ismail   28   0.128205\n",
       "4     Kory   42   0.897436"
      ]
     },
     "execution_count": 8,
     "metadata": {},
     "output_type": "execute_result"
    }
   ],
   "source": [
    "df.head()"
   ]
  },
  {
   "cell_type": "code",
   "execution_count": 9,
   "id": "5ea0a179",
   "metadata": {},
   "outputs": [],
   "source": [
    "Normalize.fit(df[['Age']])\n",
    "df['Age'] = Normalize.transform(df[['Age']])"
   ]
  },
  {
   "cell_type": "code",
   "execution_count": 10,
   "id": "790e700c",
   "metadata": {},
   "outputs": [
    {
     "data": {
      "text/html": [
       "<div>\n",
       "<style scoped>\n",
       "    .dataframe tbody tr th:only-of-type {\n",
       "        vertical-align: middle;\n",
       "    }\n",
       "\n",
       "    .dataframe tbody tr th {\n",
       "        vertical-align: top;\n",
       "    }\n",
       "\n",
       "    .dataframe thead th {\n",
       "        text-align: right;\n",
       "    }\n",
       "</style>\n",
       "<table border=\"1\" class=\"dataframe\">\n",
       "  <thead>\n",
       "    <tr style=\"text-align: right;\">\n",
       "      <th></th>\n",
       "      <th>Name</th>\n",
       "      <th>Age</th>\n",
       "      <th>Income($)</th>\n",
       "    </tr>\n",
       "  </thead>\n",
       "  <tbody>\n",
       "    <tr>\n",
       "      <th>0</th>\n",
       "      <td>Rob</td>\n",
       "      <td>0.058824</td>\n",
       "      <td>0.213675</td>\n",
       "    </tr>\n",
       "    <tr>\n",
       "      <th>1</th>\n",
       "      <td>Michael</td>\n",
       "      <td>0.176471</td>\n",
       "      <td>0.384615</td>\n",
       "    </tr>\n",
       "    <tr>\n",
       "      <th>2</th>\n",
       "      <td>Mohan</td>\n",
       "      <td>0.176471</td>\n",
       "      <td>0.136752</td>\n",
       "    </tr>\n",
       "    <tr>\n",
       "      <th>3</th>\n",
       "      <td>Ismail</td>\n",
       "      <td>0.117647</td>\n",
       "      <td>0.128205</td>\n",
       "    </tr>\n",
       "    <tr>\n",
       "      <th>4</th>\n",
       "      <td>Kory</td>\n",
       "      <td>0.941176</td>\n",
       "      <td>0.897436</td>\n",
       "    </tr>\n",
       "  </tbody>\n",
       "</table>\n",
       "</div>"
      ],
      "text/plain": [
       "      Name       Age  Income($)\n",
       "0      Rob  0.058824   0.213675\n",
       "1  Michael  0.176471   0.384615\n",
       "2    Mohan  0.176471   0.136752\n",
       "3   Ismail  0.117647   0.128205\n",
       "4     Kory  0.941176   0.897436"
      ]
     },
     "execution_count": 10,
     "metadata": {},
     "output_type": "execute_result"
    }
   ],
   "source": [
    "df.head()"
   ]
  },
  {
   "cell_type": "markdown",
   "id": "9df4c273",
   "metadata": {},
   "source": [
    "#### Now That we have Normalized our data into the Same Scale , we will Apply the K-Means Algo"
   ]
  },
  {
   "cell_type": "code",
   "execution_count": 11,
   "id": "80a4e36f",
   "metadata": {},
   "outputs": [],
   "source": [
    "\n",
    "from sklearn.cluster import KMeans"
   ]
  },
  {
   "cell_type": "code",
   "execution_count": 12,
   "id": "1cfaddc6",
   "metadata": {},
   "outputs": [
    {
     "data": {
      "text/plain": [
       "array([1, 1, 1, 1, 0, 0, 0, 0, 0, 0, 0, 1, 1, 1, 1, 1, 2, 2, 2, 2, 2, 2])"
      ]
     },
     "execution_count": 12,
     "metadata": {},
     "output_type": "execute_result"
    }
   ],
   "source": [
    "km = KMeans(n_clusters = 3)\n",
    "cluster_predict = km.fit_predict(df[['Age', 'Income($)']])\n",
    "cluster_predict"
   ]
  },
  {
   "cell_type": "code",
   "execution_count": 13,
   "id": "f611831e",
   "metadata": {},
   "outputs": [
    {
     "data": {
      "text/html": [
       "<div>\n",
       "<style scoped>\n",
       "    .dataframe tbody tr th:only-of-type {\n",
       "        vertical-align: middle;\n",
       "    }\n",
       "\n",
       "    .dataframe tbody tr th {\n",
       "        vertical-align: top;\n",
       "    }\n",
       "\n",
       "    .dataframe thead th {\n",
       "        text-align: right;\n",
       "    }\n",
       "</style>\n",
       "<table border=\"1\" class=\"dataframe\">\n",
       "  <thead>\n",
       "    <tr style=\"text-align: right;\">\n",
       "      <th></th>\n",
       "      <th>Name</th>\n",
       "      <th>Age</th>\n",
       "      <th>Income($)</th>\n",
       "      <th>clusters</th>\n",
       "    </tr>\n",
       "  </thead>\n",
       "  <tbody>\n",
       "    <tr>\n",
       "      <th>0</th>\n",
       "      <td>Rob</td>\n",
       "      <td>0.058824</td>\n",
       "      <td>0.213675</td>\n",
       "      <td>1</td>\n",
       "    </tr>\n",
       "    <tr>\n",
       "      <th>1</th>\n",
       "      <td>Michael</td>\n",
       "      <td>0.176471</td>\n",
       "      <td>0.384615</td>\n",
       "      <td>1</td>\n",
       "    </tr>\n",
       "    <tr>\n",
       "      <th>2</th>\n",
       "      <td>Mohan</td>\n",
       "      <td>0.176471</td>\n",
       "      <td>0.136752</td>\n",
       "      <td>1</td>\n",
       "    </tr>\n",
       "    <tr>\n",
       "      <th>3</th>\n",
       "      <td>Ismail</td>\n",
       "      <td>0.117647</td>\n",
       "      <td>0.128205</td>\n",
       "      <td>1</td>\n",
       "    </tr>\n",
       "    <tr>\n",
       "      <th>4</th>\n",
       "      <td>Kory</td>\n",
       "      <td>0.941176</td>\n",
       "      <td>0.897436</td>\n",
       "      <td>0</td>\n",
       "    </tr>\n",
       "    <tr>\n",
       "      <th>5</th>\n",
       "      <td>Gautam</td>\n",
       "      <td>0.764706</td>\n",
       "      <td>0.940171</td>\n",
       "      <td>0</td>\n",
       "    </tr>\n",
       "    <tr>\n",
       "      <th>6</th>\n",
       "      <td>David</td>\n",
       "      <td>0.882353</td>\n",
       "      <td>0.982906</td>\n",
       "      <td>0</td>\n",
       "    </tr>\n",
       "    <tr>\n",
       "      <th>7</th>\n",
       "      <td>Andrea</td>\n",
       "      <td>0.705882</td>\n",
       "      <td>1.000000</td>\n",
       "      <td>0</td>\n",
       "    </tr>\n",
       "    <tr>\n",
       "      <th>8</th>\n",
       "      <td>Brad</td>\n",
       "      <td>0.588235</td>\n",
       "      <td>0.948718</td>\n",
       "      <td>0</td>\n",
       "    </tr>\n",
       "    <tr>\n",
       "      <th>9</th>\n",
       "      <td>Angelina</td>\n",
       "      <td>0.529412</td>\n",
       "      <td>0.726496</td>\n",
       "      <td>0</td>\n",
       "    </tr>\n",
       "    <tr>\n",
       "      <th>10</th>\n",
       "      <td>Donald</td>\n",
       "      <td>0.647059</td>\n",
       "      <td>0.786325</td>\n",
       "      <td>0</td>\n",
       "    </tr>\n",
       "    <tr>\n",
       "      <th>11</th>\n",
       "      <td>Tom</td>\n",
       "      <td>0.000000</td>\n",
       "      <td>0.000000</td>\n",
       "      <td>1</td>\n",
       "    </tr>\n",
       "    <tr>\n",
       "      <th>12</th>\n",
       "      <td>Arnold</td>\n",
       "      <td>0.058824</td>\n",
       "      <td>0.025641</td>\n",
       "      <td>1</td>\n",
       "    </tr>\n",
       "    <tr>\n",
       "      <th>13</th>\n",
       "      <td>Jared</td>\n",
       "      <td>0.117647</td>\n",
       "      <td>0.051282</td>\n",
       "      <td>1</td>\n",
       "    </tr>\n",
       "    <tr>\n",
       "      <th>14</th>\n",
       "      <td>Stark</td>\n",
       "      <td>0.176471</td>\n",
       "      <td>0.038462</td>\n",
       "      <td>1</td>\n",
       "    </tr>\n",
       "    <tr>\n",
       "      <th>15</th>\n",
       "      <td>Ranbir</td>\n",
       "      <td>0.352941</td>\n",
       "      <td>0.068376</td>\n",
       "      <td>1</td>\n",
       "    </tr>\n",
       "    <tr>\n",
       "      <th>16</th>\n",
       "      <td>Dipika</td>\n",
       "      <td>0.823529</td>\n",
       "      <td>0.170940</td>\n",
       "      <td>2</td>\n",
       "    </tr>\n",
       "    <tr>\n",
       "      <th>17</th>\n",
       "      <td>Priyanka</td>\n",
       "      <td>0.882353</td>\n",
       "      <td>0.153846</td>\n",
       "      <td>2</td>\n",
       "    </tr>\n",
       "    <tr>\n",
       "      <th>18</th>\n",
       "      <td>Nick</td>\n",
       "      <td>1.000000</td>\n",
       "      <td>0.162393</td>\n",
       "      <td>2</td>\n",
       "    </tr>\n",
       "    <tr>\n",
       "      <th>19</th>\n",
       "      <td>Alia</td>\n",
       "      <td>0.764706</td>\n",
       "      <td>0.299145</td>\n",
       "      <td>2</td>\n",
       "    </tr>\n",
       "    <tr>\n",
       "      <th>20</th>\n",
       "      <td>Sid</td>\n",
       "      <td>0.882353</td>\n",
       "      <td>0.316239</td>\n",
       "      <td>2</td>\n",
       "    </tr>\n",
       "    <tr>\n",
       "      <th>21</th>\n",
       "      <td>Abdul</td>\n",
       "      <td>0.764706</td>\n",
       "      <td>0.111111</td>\n",
       "      <td>2</td>\n",
       "    </tr>\n",
       "  </tbody>\n",
       "</table>\n",
       "</div>"
      ],
      "text/plain": [
       "        Name       Age  Income($)  clusters\n",
       "0        Rob  0.058824   0.213675         1\n",
       "1    Michael  0.176471   0.384615         1\n",
       "2      Mohan  0.176471   0.136752         1\n",
       "3     Ismail  0.117647   0.128205         1\n",
       "4       Kory  0.941176   0.897436         0\n",
       "5     Gautam  0.764706   0.940171         0\n",
       "6      David  0.882353   0.982906         0\n",
       "7     Andrea  0.705882   1.000000         0\n",
       "8       Brad  0.588235   0.948718         0\n",
       "9   Angelina  0.529412   0.726496         0\n",
       "10    Donald  0.647059   0.786325         0\n",
       "11       Tom  0.000000   0.000000         1\n",
       "12    Arnold  0.058824   0.025641         1\n",
       "13     Jared  0.117647   0.051282         1\n",
       "14     Stark  0.176471   0.038462         1\n",
       "15    Ranbir  0.352941   0.068376         1\n",
       "16    Dipika  0.823529   0.170940         2\n",
       "17  Priyanka  0.882353   0.153846         2\n",
       "18      Nick  1.000000   0.162393         2\n",
       "19      Alia  0.764706   0.299145         2\n",
       "20       Sid  0.882353   0.316239         2\n",
       "21     Abdul  0.764706   0.111111         2"
      ]
     },
     "execution_count": 13,
     "metadata": {},
     "output_type": "execute_result"
    }
   ],
   "source": [
    "df['clusters'] = cluster_predict\n",
    "df"
   ]
  },
  {
   "cell_type": "code",
   "execution_count": 14,
   "id": "661d7bbb",
   "metadata": {},
   "outputs": [
    {
     "data": {
      "text/plain": [
       "array([[0.72268908, 0.8974359 ],\n",
       "       [0.1372549 , 0.11633428],\n",
       "       [0.85294118, 0.2022792 ]])"
      ]
     },
     "execution_count": 14,
     "metadata": {},
     "output_type": "execute_result"
    }
   ],
   "source": [
    "km.cluster_centers_"
   ]
  },
  {
   "cell_type": "code",
   "execution_count": 15,
   "id": "89d88ba0",
   "metadata": {},
   "outputs": [],
   "source": [
    "centers_y = km.cluster_centers_[:, 1]"
   ]
  },
  {
   "cell_type": "code",
   "execution_count": 16,
   "id": "a5406561",
   "metadata": {},
   "outputs": [
    {
     "data": {
      "text/plain": [
       "<matplotlib.legend.Legend at 0x27be44b1a88>"
      ]
     },
     "execution_count": 16,
     "metadata": {},
     "output_type": "execute_result"
    },
    {
     "data": {
      "image/png": "[encoded data removed]",
      "text/plain": [
       "<Figure size 432x288 with 1 Axes>"
      ]
     },
     "metadata": {
      "needs_background": "light"
     },
     "output_type": "display_data"
    }
   ],
   "source": [
    "df1 = df[df['clusters'] == 0]\n",
    "df2 = df[df['clusters'] == 1]\n",
    "df3 = df[df['clusters'] == 2]\n",
    "\n",
    "plt.scatter(df1['Age'], df1['Income($)'], color = 'green')\n",
    "plt.scatter(df2['Age'], df2['Income($)'], color = 'red')\n",
    "plt.scatter(df3['Age'], df3['Income($)'], color = 'blue')\n",
    "\n",
    "plt.scatter(km.cluster_centers_[:,0], km.cluster_centers_[:,1], color = 'black', marker = '*', label = 'Centroid')\n",
    "plt.legend()\n"
   ]
  },
  {
   "cell_type": "markdown",
   "id": "64664530",
   "metadata": {},
   "source": [
    "### Elbow Plot"
   ]
  },
  {
   "cell_type": "code",
   "execution_count": 17,
   "id": "98f75a16",
   "metadata": {},
   "outputs": [],
   "source": [
    "sse = []\n",
    "k_range = range(1,11)\n",
    "for k in k_range:\n",
    "    km = KMeans(n_clusters = k)\n",
    "    km.fit(df[['Age', 'Income($)']])\n",
    "    sse.append(km.inertia_)"
   ]
  },
  {
   "cell_type": "code",
   "execution_count": 18,
   "id": "7382e10a",
   "metadata": {},
   "outputs": [
    {
     "data": {
      "text/plain": [
       "[5.43401151198818,\n",
       " 2.091136388699078,\n",
       " 0.4750783498553096,\n",
       " 0.3491047094419565,\n",
       " 0.2664030124668416,\n",
       " 0.21055478995472493,\n",
       " 0.17840674931327932,\n",
       " 0.13265419827245162,\n",
       " 0.10497488680620906,\n",
       " 0.07831232180040332]"
      ]
     },
     "execution_count": 18,
     "metadata": {},
     "output_type": "execute_result"
    }
   ],
   "source": [
    "sse"
   ]
  },
  {
   "cell_type": "code",
   "execution_count": 19,
   "id": "49d84078",
   "metadata": {},
   "outputs": [
    {
     "data": {
      "text/plain": [
       "[<matplotlib.lines.Line2D at 0x27be4527b48>]"
      ]
     },
     "execution_count": 19,
     "metadata": {},
     "output_type": "execute_result"
    },
    {
     "data": {
      "image/png": "[encoded data removed]",
      "text/plain": [
       "<Figure size 432x288 with 1 Axes>"
      ]
     },
     "metadata": {
      "needs_background": "light"
     },
     "output_type": "display_data"
    }
   ],
   "source": [
    "plt.xlabel('K')\n",
    "plt.ylabel('SSE')\n",
    "plt.plot(k_range, sse)"
   ]
  },
  {
   "cell_type": "markdown",
   "id": "a2af763a",
   "metadata": {},
   "source": [
    "#### Test for creating our own Fit and Predict functions and compare it with the in-built K_means functions of fit & Predict."
   ]
  },
  {
   "cell_type": "code",
   "execution_count": 4,
   "id": "70e68562",
   "metadata": {},
   "outputs": [],
   "source": [
    "def fit(data, k_clusters = 3, max_iter = 20):\n",
    "    mean = []\n",
    "    for i in range(k_clusters):\n",
    "        mean.append(data[i])     #### Picking the Random Mean Values\n",
    "    for i in range(max_iter):\n",
    "        ## Assign the cluster that the data point belongs to\n",
    "        ## Create an Empty Cluster and for every iteration put the data point in the new fresh cluster \n",
    "        clusters = []\n",
    "        for j in range(k_clusters):\n",
    "            clusters.append([])\n",
    "        dist = []\n",
    "        for point in data:\n",
    "            \n",
    "            distances = [(point - m)**2 for m in mean]\n",
    "            min_distance = min(distances)\n",
    "            l = distances.index(min_distance)\n",
    "            clusters[l].append(point)\n",
    "            \n",
    "        ## Calculate the new Mean Values and override the existing value of the mean in each iteration.    \n",
    "        change = False   \n",
    "        for j in range(k_clusters):\n",
    "            new_mean = np.average(clusters[j], axis = 0)\n",
    "            if not np.array_equal(means[j], new_mean):\n",
    "                change = True\n",
    "            mean[j] = new_mean\n",
    "        if change is False:\n",
    "            break\n",
    "    return mean\n",
    "        "
   ]
  },
  {
   "cell_type": "code",
   "execution_count": 6,
   "id": "0d46e033",
   "metadata": {},
   "outputs": [],
   "source": [
    "def predict(new_test_data, mean):\n",
    "    prediction = []\n",
    "    for point in new_test_data:\n",
    "        distances = [((point - m)**2).sum() for m in mean]\n",
    "        min_distance = min(distances)\n",
    "        l = distances.index(min(min_distances))\n",
    "        predictions.append(l)\n",
    "        \n",
    "    return predictions\n",
    "        "
   ]
  }
 ],
 "metadata": {
  "kernelspec": {
   "display_name": "Python 3",
   "language": "python",
   "name": "python3"
  },
  "language_info": {
   "codemirror_mode": {
    "name": "ipython",
    "version": 3
   },
   "file_extension": ".py",
   "mimetype": "text/x-python",
   "name": "python",
   "nbconvert_exporter": "python",
   "pygments_lexer": "ipython3",
   "version": "3.7.16"
  }
 },
 "nbformat": 4,
 "nbformat_minor": 5
}
